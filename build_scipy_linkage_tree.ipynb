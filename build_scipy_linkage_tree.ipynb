{
 "cells": [
  {
   "cell_type": "code",
   "execution_count": 1,
   "id": "67ad0a89",
   "metadata": {},
   "outputs": [],
   "source": [
    "from Bio import Phylo\n",
    "from Bio.Phylo.TreeConstruction import DistanceMatrix, DistanceTreeConstructor\n",
    "from keyname import keyname as kn\n",
    "from matplotlib import colors as mpl_colors\n",
    "from teeplot import teeplot as tp\n",
    "\n",
    "import Bio\n",
    "import alifedata_phyloinformatics_convert as apc\n",
    "import csv\n",
    "import glob\n",
    "import itertools\n",
    "import json\n",
    "import networkx as nx\n",
    "import numpy as np\n",
    "import pandas as pd\n",
    "import scipy as sci\n",
    "import seaborn as sns\n",
    "import urllib.request as request\n",
    "import io\n",
    "from copy import deepcopy\n",
    "\n",
    "from etlib.SortableTree.SortableTree import SortableTree, to_tril, fix_branch_length\n",
    "from etlib.PlotTools.PlotTools import enable_pretty_graphing, set_color\n",
    "enable_pretty_graphing()"
   ]
  },
  {
   "cell_type": "code",
   "execution_count": 2,
   "id": "20a858e1",
   "metadata": {},
   "outputs": [],
   "source": [
    "morphs = {x['stint']: x[' morph'][1:] for x in pd.read_csv('morphs_by_stint.csv').to_dict(orient='records')}"
   ]
  },
  {
   "cell_type": "code",
   "execution_count": 3,
   "id": "6e461caf",
   "metadata": {},
   "outputs": [],
   "source": [
    "matrix = np.loadtxt(\"data/distance_matrix.matrix\")\n",
    "with open(\"data/stint_tags.json\", 'r') as f:\n",
    "    stint_tags = json.loads(f.read())"
   ]
  },
  {
   "cell_type": "code",
   "execution_count": 4,
   "id": "800426b2",
   "metadata": {},
   "outputs": [],
   "source": [
    "linkage_matrix = sci.cluster.hierarchy.linkage(matrix)"
   ]
  },
  {
   "cell_type": "code",
   "execution_count": 5,
   "id": "2a38840d",
   "metadata": {},
   "outputs": [],
   "source": [
    "dendropy_tree = apc.scipy_linkage_matrix_to_dendropy_tree(\n",
    "    linkage_matrix,\n",
    "    leaf_labels=['{} ({})'.format(str(x), morphs[x]) for x in range(len(linkage_matrix) + 1)]\n",
    ")"
   ]
  },
  {
   "cell_type": "code",
   "execution_count": 6,
   "id": "c9d76c48",
   "metadata": {},
   "outputs": [],
   "source": [
    "df = apc.dendropy_tree_to_alife_dataframe(dendropy_tree)"
   ]
  },
  {
   "cell_type": "code",
   "execution_count": 7,
   "id": "61d533e7",
   "metadata": {},
   "outputs": [],
   "source": [
    "tree = apc.alife_dataframe_to_biopython_tree(df, ['label'])"
   ]
  },
  {
   "cell_type": "code",
   "execution_count": 8,
   "id": "e1b603ad",
   "metadata": {},
   "outputs": [],
   "source": [
    "new_tree = SortableTree(root=tree.clade)\n",
    "new_tree.fix_inner_nodes()"
   ]
  },
  {
   "cell_type": "code",
   "execution_count": 9,
   "id": "912401da",
   "metadata": {},
   "outputs": [],
   "source": [
    "def fix_tree(root):\n",
    "    for node in root:\n",
    "        if node.label:\n",
    "            node.name = node.label\n",
    "        fix_tree(node)\n",
    "fix_tree(new_tree.clade)"
   ]
  },
  {
   "cell_type": "code",
   "execution_count": 10,
   "id": "c0c6ef04",
   "metadata": {},
   "outputs": [
    {
     "data": {
      "text/plain": [
       "1"
      ]
     },
     "execution_count": 10,
     "metadata": {},
     "output_type": "execute_result"
    }
   ],
   "source": [
    "Phylo.write(new_tree, \"data/scipy_linkage_tree.xml\", \"phyloxml\")"
   ]
  },
  {
   "cell_type": "code",
   "execution_count": 11,
   "id": "6f03dd22",
   "metadata": {},
   "outputs": [],
   "source": [
    "# tp.tee(\n",
    "#     Phylo.draw,\n",
    "#     new_tree,\n",
    "#     label_func=lambda x: x.label if x.is_terminal() else None,\n",
    "#     branch_labels=None,\n",
    "#     label_colors=lambda x: set_color(x),\n",
    "#     xlabel=[\"point mutation distance\"],\n",
    "#     ylabel=[\"\"],\n",
    "#     yticks={\"ticks\": [0]},\n",
    "#     grid={\"visible\": True, \"which\": \"both\", \"axis\": \"x\", \"color\": \"gainsboro\", \"linewidth\": \"0.5\"},\n",
    "#     do_show=False,\n",
    "#     teeplot_subdir=\"scipy_linkage_tree\"\n",
    "# )"
   ]
  },
  {
   "cell_type": "code",
   "execution_count": 12,
   "id": "9e9a7055",
   "metadata": {},
   "outputs": [],
   "source": [
    "# no_outliers_tree = deepcopy(new_tree)\n",
    "# no_outliers_tree.prune(target=lambda x: x.label == '0 (a)')\n",
    "# no_outliers_tree.prune(target=lambda x: x.label == '1 (b)')"
   ]
  },
  {
   "cell_type": "code",
   "execution_count": 13,
   "id": "8f383d73",
   "metadata": {},
   "outputs": [],
   "source": [
    "# tp.tee(\n",
    "#     Phylo.draw,\n",
    "#     no_outliers_tree,\n",
    "#     label_func=lambda x: x.label if x.is_terminal() else None,\n",
    "#     branch_labels=None,\n",
    "#     label_colors=lambda x: set_color(x),\n",
    "#     xlabel=[\"point mutation distance\"],\n",
    "#     ylabel=[\"\"],\n",
    "#     yticks={\"ticks\": [0]},\n",
    "#     grid={\"visible\": True, \"which\": \"both\", \"axis\": \"x\", \"color\": \"gainsboro\", \"linewidth\": \"0.5\"},\n",
    "#     do_show=False,\n",
    "#     teeplot_subdir=\"scipy_linkage_tree_no_outliers\"\n",
    "# )"
   ]
  },
  {
   "cell_type": "code",
   "execution_count": null,
   "id": "7e1850f0",
   "metadata": {},
   "outputs": [],
   "source": []
  }
 ],
 "metadata": {
  "kernelspec": {
   "display_name": "Python 3 (ipykernel)",
   "language": "python",
   "name": "python3"
  },
  "language_info": {
   "codemirror_mode": {
    "name": "ipython",
    "version": 3
   },
   "file_extension": ".py",
   "mimetype": "text/x-python",
   "name": "python",
   "nbconvert_exporter": "python",
   "pygments_lexer": "ipython3",
   "version": "3.10.7"
  }
 },
 "nbformat": 4,
 "nbformat_minor": 5
}
