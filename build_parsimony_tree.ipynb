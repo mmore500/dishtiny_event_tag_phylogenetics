{
 "cells": [
  {
   "cell_type": "code",
   "execution_count": 1,
   "id": "01ac4525",
   "metadata": {},
   "outputs": [],
   "source": [
    "from Bio import Phylo\n",
    "from Bio.Phylo.TreeConstruction import DistanceMatrix, DistanceTreeConstructor\n",
    "from keyname import keyname as kn\n",
    "from matplotlib import colors as mpl_colors\n",
    "from teeplot import teeplot as tp\n",
    "\n",
    "import Bio\n",
    "import alifedata_phyloinformatics_convert as apc\n",
    "import csv\n",
    "import glob\n",
    "import itertools\n",
    "import json\n",
    "import matplotlib.pyplot as plt\n",
    "import matplotlib.font_manager as fm\n",
    "import networkx as nx\n",
    "import numpy as np\n",
    "import pandas as pd\n",
    "import scipy as sci\n",
    "import seaborn as sns\n",
    "import urllib.request as request\n",
    "import io\n",
    "from copy import deepcopy\n",
    "\n",
    "\n",
    "from etlib.SortableTree.SortableTree import SortableTree, find_leaves, to_tril\n",
    "from etlib.PlotTools.PlotTools import enable_pretty_graphing\n",
    "enable_pretty_graphing()"
   ]
  },
  {
   "cell_type": "code",
   "execution_count": 3,
   "id": "682e4844",
   "metadata": {},
   "outputs": [],
   "source": [
    "morphs = {x['stint']: x[' morph'][1:] for x in pd.read_csv('morphs_by_stint.csv').to_dict(orient='records')}\n",
    "matrix = np.loadtxt(\"data/distance_matrix.matrix\")\n",
    "with open(\"data/stint_tags.json\", 'r') as f:\n",
    "    stint_tags = json.loads(f.read())"
   ]
  },
  {
   "cell_type": "code",
   "execution_count": 6,
   "id": "dde6c010",
   "metadata": {},
   "outputs": [],
   "source": [
    "scorer = Phylo.TreeConstruction.ParsimonyScorer()"
   ]
  },
  {
   "cell_type": "code",
   "execution_count": 7,
   "id": "93437acc",
   "metadata": {},
   "outputs": [],
   "source": [
    "searcher = Phylo.TreeConstruction.NNITreeSearcher(scorer)"
   ]
  },
  {
   "cell_type": "code",
   "execution_count": 8,
   "id": "57c12fa9",
   "metadata": {},
   "outputs": [],
   "source": [
    "dm = Bio.Phylo.TreeConstruction.DistanceMatrix(\n",
    "    names=[str(x) for x in range(len(stint_tags))],\n",
    "    matrix=to_tril(matrix.T)\n",
    ")\n",
    "tree = getattr(DistanceTreeConstructor(), 'nj')(dm)"
   ]
  },
  {
   "cell_type": "code",
   "execution_count": 9,
   "id": "bc7141ec",
   "metadata": {},
   "outputs": [],
   "source": [
    "bigtags_per_stint = {}\n",
    "\n",
    "for stint, tags in stint_tags.items():\n",
    "    bigtag = ''.join(bin(x)[2:].zfill(64) for x in tags)\n",
    "    bigtags_per_stint[stint] = bigtag"
   ]
  },
  {
   "cell_type": "code",
   "execution_count": 10,
   "id": "ee3ddc95",
   "metadata": {},
   "outputs": [],
   "source": [
    "align_str = f\"\"\"{len(bigtags_per_stint)} {len(bigtags_per_stint[0])}\n",
    "\"\"\"\n",
    "\n",
    "for stint, bigtag in bigtags_per_stint.items():\n",
    "    align_str += str(stint).zfill(10) + str(bigtag) + \"\\n\""
   ]
  },
  {
   "cell_type": "code",
   "execution_count": 11,
   "id": "f42d0538",
   "metadata": {},
   "outputs": [],
   "source": [
    "f = io.StringIO(align_str)"
   ]
  },
  {
   "cell_type": "code",
   "execution_count": 12,
   "id": "5708d4b7",
   "metadata": {},
   "outputs": [
    {
     "data": {
      "text/plain": [
       "<<class 'Bio.Align.MultipleSeqAlignment'> instance (101 records of length 2240) at 7f36ab6c21d0>"
      ]
     },
     "execution_count": 12,
     "metadata": {},
     "output_type": "execute_result"
    }
   ],
   "source": [
    "from Bio import AlignIO\n",
    "aln = AlignIO.read(f, 'phylip')\n",
    "aln"
   ]
  },
  {
   "cell_type": "code",
   "execution_count": 13,
   "id": "0b33250c",
   "metadata": {},
   "outputs": [],
   "source": [
    "def rename_tree(root):\n",
    "    try:\n",
    "        stint_id = int(root.name)\n",
    "        root.name = str(stint_id).zfill(10)\n",
    "    except (ValueError, TypeError):\n",
    "        pass\n",
    "    for node in root.clades:\n",
    "        rename_tree(node)"
   ]
  },
  {
   "cell_type": "code",
   "execution_count": 14,
   "id": "c50b5ffb",
   "metadata": {},
   "outputs": [],
   "source": [
    "fixed_tree = deepcopy(tree)\n",
    "rename_tree(fixed_tree.clade)"
   ]
  },
  {
   "cell_type": "code",
   "execution_count": 15,
   "id": "a14ec9d6",
   "metadata": {},
   "outputs": [],
   "source": [
    "constructor = Phylo.TreeConstruction.ParsimonyTreeConstructor(searcher, fixed_tree)"
   ]
  },
  {
   "cell_type": "code",
   "execution_count": 16,
   "id": "a26a85a9",
   "metadata": {},
   "outputs": [],
   "source": [
    "pars_tree = constructor.build_tree(aln)"
   ]
  },
  {
   "cell_type": "code",
   "execution_count": 1,
   "id": "b51df636",
   "metadata": {},
   "outputs": [
    {
     "ename": "NameError",
     "evalue": "name 'deepcopy' is not defined",
     "output_type": "error",
     "traceback": [
      "\u001b[0;31m---------------------------------------------------------------------------\u001b[0m",
      "\u001b[0;31mNameError\u001b[0m                                 Traceback (most recent call last)",
      "Cell \u001b[0;32mIn [1], line 1\u001b[0m\n\u001b[0;32m----> 1\u001b[0m sorted_pars_tree \u001b[38;5;241m=\u001b[39m \u001b[43mdeepcopy\u001b[49m(pars_tree)\n\u001b[1;32m      2\u001b[0m sorted_pars_tree \u001b[38;5;241m=\u001b[39m SortableTree(sorted_pars_tree\u001b[38;5;241m.\u001b[39mclade)\n\u001b[1;32m      3\u001b[0m sorted_pars_tree\u001b[38;5;241m.\u001b[39msort_tree(reverse\u001b[38;5;241m=\u001b[39m\u001b[38;5;28;01mTrue\u001b[39;00m)\n",
      "\u001b[0;31mNameError\u001b[0m: name 'deepcopy' is not defined"
     ]
    }
   ],
   "source": [
    "sorted_pars_tree = deepcopy(pars_tree)\n",
    "sorted_pars_tree = SortableTree(sorted_pars_tree.clade)\n",
    "sorted_pars_tree.sort_tree(reverse=True)"
   ]
  },
  {
   "cell_type": "code",
   "execution_count": 20,
   "id": "fab72b1e",
   "metadata": {},
   "outputs": [],
   "source": [
    "rerooted_pars_tree = deepcopy(sorted_pars_tree)\n",
    "rerooted_pars_tree.root_with_outgroup({\"name\": \"0000000002\"})\n",
    "rerooted_pars_tree.sort_tree(reverse=True)"
   ]
  },
  {
   "cell_type": "code",
   "execution_count": 22,
   "id": "1ede186a",
   "metadata": {},
   "outputs": [
    {
     "data": {
      "text/plain": [
       "1"
      ]
     },
     "execution_count": 22,
     "metadata": {},
     "output_type": "execute_result"
    }
   ],
   "source": [
    "# store parsimony trees\n",
    "Phylo.write(pars_tree, \"data/parsimony_tree.xml\", \"phyloxml\")\n",
    "Phylo.write(sorted_pars_tree, \"data/sorted_parsimony_tree.xml\", \"phyloxml\")\n",
    "Phylo.write(rerooted_pars_tree, \"data/rerooted_pars_tree.xml\", \"phyloxml\")"
   ]
  },
  {
   "cell_type": "code",
   "execution_count": null,
   "id": "b8e139c1",
   "metadata": {},
   "outputs": [],
   "source": []
  }
 ],
 "metadata": {
  "kernelspec": {
   "display_name": "Python 3 (ipykernel)",
   "language": "python",
   "name": "python3"
  },
  "language_info": {
   "codemirror_mode": {
    "name": "ipython",
    "version": 3
   },
   "file_extension": ".py",
   "mimetype": "text/x-python",
   "name": "python",
   "nbconvert_exporter": "python",
   "pygments_lexer": "ipython3",
   "version": "3.10.7"
  }
 },
 "nbformat": 4,
 "nbformat_minor": 5
}
